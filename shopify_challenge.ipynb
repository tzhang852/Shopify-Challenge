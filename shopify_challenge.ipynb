{
 "cells": [
  {
   "cell_type": "markdown",
   "metadata": {},
   "source": [
    "On Shopify, we have exactly 100 sneaker shops, and each of these shops sells only one model of shoe. We want to do some analysis of the average order value (AOV). When we look at orders data over a 30 day window, we naively calculate an AOV of $3145.13. Given that we know these shops are selling sneakers, a relatively affordable item, something seems wrong with our analysis. "
   ]
  },
  {
   "cell_type": "markdown",
   "metadata": {},
   "source": [
    "Q1a: Think about what could be going wrong with our calculation. Think about a better way to evaluate this data. "
   ]
  },
  {
   "cell_type": "markdown",
   "metadata": {},
   "source": [
    "A1a: The naive calculation looked at the average order_amount of the sneakers across all 100 sneakers. However, as shown in the summary statistics there is an outlier (but we can't quite tell which one, as we haven't looked at individual shop prices for shoes). In addition, the average does not take into account the number of units sold for the order_amount, the naive calculation is misleading. To address this, we can use the standard average order value formula of: $$\\frac{\\text{total revenue}}{\\text{number of items sold}}$$ With this formula, we arrive at: $$\\text{AOV = }\\$357.92$$"
   ]
  },
  {
   "cell_type": "code",
   "execution_count": 51,
   "metadata": {},
   "outputs": [],
   "source": [
    "# imports\n",
    "try:\n",
    "    import pandas as pd\n",
    "except:\n",
    "    print (\"******************************************************************************************* \\n\")\n",
    "    print (\"*** NO pandas Library Found, please install it.                                         *** \\n\")\n",
    "    print (\"******************************************************************************************* \\n\")\n",
    "\n",
    "try:\n",
    "    from matplotlib import pyplot as plt\n",
    "except:\n",
    "    print (\"******************************************************************************************* \\n\")\n",
    "    print (\"*** NO matplotlib Library Found, please install it.                                     *** \\n\")\n",
    "    print (\"******************************************************************************************* \\n\")\n",
    "\n",
    "try:\n",
    "    import numpy as np\n",
    "except:\n",
    "    print (\"******************************************************************************************* \\n\")\n",
    "    print (\"*** NO numpy Library Found, please install it.                                          *** \\n\")\n",
    "    print (\"******************************************************************************************* \\n\")\n",
    "\n",
    "try:\n",
    "    from scipy import stats\n",
    "except:\n",
    "    print (\"******************************************************************************************* \\n\")\n",
    "    print (\"*** NO scipy Library Found, please install it.                                          *** \\n\")\n",
    "    print (\"******************************************************************************************* \\n\")"
   ]
  },
  {
   "cell_type": "code",
   "execution_count": 24,
   "metadata": {},
   "outputs": [
    {
     "data": {
      "text/html": [
       "<div>\n",
       "<style scoped>\n",
       "    .dataframe tbody tr th:only-of-type {\n",
       "        vertical-align: middle;\n",
       "    }\n",
       "\n",
       "    .dataframe tbody tr th {\n",
       "        vertical-align: top;\n",
       "    }\n",
       "\n",
       "    .dataframe thead th {\n",
       "        text-align: right;\n",
       "    }\n",
       "</style>\n",
       "<table border=\"1\" class=\"dataframe\">\n",
       "  <thead>\n",
       "    <tr style=\"text-align: right;\">\n",
       "      <th></th>\n",
       "      <th>order_id</th>\n",
       "      <th>shop_id</th>\n",
       "      <th>user_id</th>\n",
       "      <th>order_amount</th>\n",
       "      <th>total_items</th>\n",
       "      <th>payment_method</th>\n",
       "      <th>created_at</th>\n",
       "    </tr>\n",
       "  </thead>\n",
       "  <tbody>\n",
       "    <tr>\n",
       "      <th>0</th>\n",
       "      <td>1</td>\n",
       "      <td>53</td>\n",
       "      <td>746</td>\n",
       "      <td>224</td>\n",
       "      <td>2</td>\n",
       "      <td>cash</td>\n",
       "      <td>2017-03-13 12:36:56</td>\n",
       "    </tr>\n",
       "    <tr>\n",
       "      <th>1</th>\n",
       "      <td>2</td>\n",
       "      <td>92</td>\n",
       "      <td>925</td>\n",
       "      <td>90</td>\n",
       "      <td>1</td>\n",
       "      <td>cash</td>\n",
       "      <td>2017-03-03 17:38:52</td>\n",
       "    </tr>\n",
       "    <tr>\n",
       "      <th>2</th>\n",
       "      <td>3</td>\n",
       "      <td>44</td>\n",
       "      <td>861</td>\n",
       "      <td>144</td>\n",
       "      <td>1</td>\n",
       "      <td>cash</td>\n",
       "      <td>2017-03-14 4:23:56</td>\n",
       "    </tr>\n",
       "    <tr>\n",
       "      <th>3</th>\n",
       "      <td>4</td>\n",
       "      <td>18</td>\n",
       "      <td>935</td>\n",
       "      <td>156</td>\n",
       "      <td>1</td>\n",
       "      <td>credit_card</td>\n",
       "      <td>2017-03-26 12:43:37</td>\n",
       "    </tr>\n",
       "    <tr>\n",
       "      <th>4</th>\n",
       "      <td>5</td>\n",
       "      <td>18</td>\n",
       "      <td>883</td>\n",
       "      <td>156</td>\n",
       "      <td>1</td>\n",
       "      <td>credit_card</td>\n",
       "      <td>2017-03-01 4:35:11</td>\n",
       "    </tr>\n",
       "  </tbody>\n",
       "</table>\n",
       "</div>"
      ],
      "text/plain": [
       "   order_id  shop_id  user_id  order_amount  total_items payment_method  \\\n",
       "0         1       53      746           224            2           cash   \n",
       "1         2       92      925            90            1           cash   \n",
       "2         3       44      861           144            1           cash   \n",
       "3         4       18      935           156            1    credit_card   \n",
       "4         5       18      883           156            1    credit_card   \n",
       "\n",
       "            created_at  \n",
       "0  2017-03-13 12:36:56  \n",
       "1  2017-03-03 17:38:52  \n",
       "2   2017-03-14 4:23:56  \n",
       "3  2017-03-26 12:43:37  \n",
       "4   2017-03-01 4:35:11  "
      ]
     },
     "execution_count": 24,
     "metadata": {},
     "output_type": "execute_result"
    }
   ],
   "source": [
    "# read in data\n",
    "df_sneakers = pd.read_csv(\"shopify_challenge_ds.csv\")\n",
    "df_sneakers.head()"
   ]
  },
  {
   "cell_type": "code",
   "execution_count": 48,
   "metadata": {},
   "outputs": [
    {
     "name": "stdout",
     "output_type": "stream",
     "text": [
      "Column types of sneaker dataset: \n",
      " order_id           int64\n",
      "shop_id            int64\n",
      "user_id            int64\n",
      "order_amount       int64\n",
      "total_items        int64\n",
      "payment_method    object\n",
      "created_at        object\n",
      "dtype: object\n",
      "Null characters in sneakers:  False\n",
      "Summary Stats of the outliers seen visually: \n",
      "         order_amount  total_items\n",
      "count    5000.000000   5000.00000\n",
      "mean     3145.128000      8.78720\n",
      "std     41282.539349    116.32032\n",
      "min        90.000000      1.00000\n",
      "25%       163.000000      1.00000\n",
      "50%       284.000000      2.00000\n",
      "75%       390.000000      3.00000\n",
      "max    704000.000000   2000.00000\n"
     ]
    },
    {
     "data": {
      "image/png": "[encoded data removed]",
      "text/plain": [
       "<Figure size 1080x360 with 2 Axes>"
      ]
     },
     "metadata": {
      "needs_background": "light"
     },
     "output_type": "display_data"
    }
   ],
   "source": [
    "# check data for types, missing values, and outliers\n",
    "sneaker_col_types = df_sneakers.dtypes\n",
    "print(\"Column types of sneaker dataset: \\n\", sneaker_col_types)\n",
    "# types match what is prefaced in df_sneakers.head()\n",
    "\n",
    "sneaker_is_null = df_sneakers.isnull().values.any()\n",
    "print(\"Null characters in sneakers: \", sneaker_is_null)\n",
    "# No values are Null\n",
    "\n",
    "fig, axs = plt.subplots(1, 2, figsize = (15, 5), sharey = False)\n",
    "axs[0].boxplot(df_sneakers[\"order_amount\"])\n",
    "axs[0].set_title(\"Sneakers order_amount\")\n",
    "axs[1].boxplot(df_sneakers[\"total_items\"])\n",
    "axs[1].set_title(\"Sneakers total_items\")\n",
    "# visually confirm outliers\n",
    "\n",
    "summary_stats = df_sneakers.describe()[[\"order_amount\", \"total_items\"]]\n",
    "print(\"Summary Stats of the outliers seen visually: \\n\", summary_stats)"
   ]
  },
  {
   "cell_type": "markdown",
   "metadata": {},
   "source": [
    " Beyond this, we also need to take into account what each shop is charging per shoe and so let's order the averages based on individual shop prices."
   ]
  },
  {
   "cell_type": "code",
   "execution_count": 114,
   "metadata": {},
   "outputs": [
    {
     "data": {
      "text/html": [
       "<div>\n",
       "<style scoped>\n",
       "    .dataframe tbody tr th:only-of-type {\n",
       "        vertical-align: middle;\n",
       "    }\n",
       "\n",
       "    .dataframe tbody tr th {\n",
       "        vertical-align: top;\n",
       "    }\n",
       "\n",
       "    .dataframe thead th {\n",
       "        text-align: right;\n",
       "    }\n",
       "</style>\n",
       "<table border=\"1\" class=\"dataframe\">\n",
       "  <thead>\n",
       "    <tr style=\"text-align: right;\">\n",
       "      <th></th>\n",
       "      <th>shop_id</th>\n",
       "      <th>order_id</th>\n",
       "      <th>user_id</th>\n",
       "      <th>order_amount</th>\n",
       "      <th>total_items</th>\n",
       "      <th>payment_method</th>\n",
       "      <th>created_at</th>\n",
       "    </tr>\n",
       "  </thead>\n",
       "  <tbody>\n",
       "    <tr>\n",
       "      <th>0</th>\n",
       "      <td>42</td>\n",
       "      <td>4883</td>\n",
       "      <td>975</td>\n",
       "      <td>704000</td>\n",
       "      <td>2000</td>\n",
       "      <td>debit</td>\n",
       "      <td>2017-03-28 4:00:00</td>\n",
       "    </tr>\n",
       "    <tr>\n",
       "      <th>1</th>\n",
       "      <td>78</td>\n",
       "      <td>4919</td>\n",
       "      <td>997</td>\n",
       "      <td>154350</td>\n",
       "      <td>6</td>\n",
       "      <td>debit</td>\n",
       "      <td>2017-03-30 12:23:43</td>\n",
       "    </tr>\n",
       "    <tr>\n",
       "      <th>2</th>\n",
       "      <td>43</td>\n",
       "      <td>4941</td>\n",
       "      <td>995</td>\n",
       "      <td>1086</td>\n",
       "      <td>6</td>\n",
       "      <td>debit</td>\n",
       "      <td>2017-03-30 7:00:14</td>\n",
       "    </tr>\n",
       "    <tr>\n",
       "      <th>3</th>\n",
       "      <td>54</td>\n",
       "      <td>4695</td>\n",
       "      <td>988</td>\n",
       "      <td>1064</td>\n",
       "      <td>8</td>\n",
       "      <td>debit</td>\n",
       "      <td>2017-03-30 6:20:07</td>\n",
       "    </tr>\n",
       "    <tr>\n",
       "      <th>4</th>\n",
       "      <td>89</td>\n",
       "      <td>4878</td>\n",
       "      <td>992</td>\n",
       "      <td>980</td>\n",
       "      <td>5</td>\n",
       "      <td>debit</td>\n",
       "      <td>2017-03-30 12:48:48</td>\n",
       "    </tr>\n",
       "    <tr>\n",
       "      <th>...</th>\n",
       "      <td>...</td>\n",
       "      <td>...</td>\n",
       "      <td>...</td>\n",
       "      <td>...</td>\n",
       "      <td>...</td>\n",
       "      <td>...</td>\n",
       "      <td>...</td>\n",
       "    </tr>\n",
       "    <tr>\n",
       "      <th>95</th>\n",
       "      <td>93</td>\n",
       "      <td>4977</td>\n",
       "      <td>998</td>\n",
       "      <td>456</td>\n",
       "      <td>4</td>\n",
       "      <td>debit</td>\n",
       "      <td>2017-03-30 20:10:27</td>\n",
       "    </tr>\n",
       "    <tr>\n",
       "      <th>96</th>\n",
       "      <td>92</td>\n",
       "      <td>4974</td>\n",
       "      <td>987</td>\n",
       "      <td>450</td>\n",
       "      <td>5</td>\n",
       "      <td>debit</td>\n",
       "      <td>2017-03-29 3:07:12</td>\n",
       "    </tr>\n",
       "    <tr>\n",
       "      <th>97</th>\n",
       "      <td>100</td>\n",
       "      <td>4987</td>\n",
       "      <td>997</td>\n",
       "      <td>444</td>\n",
       "      <td>4</td>\n",
       "      <td>debit</td>\n",
       "      <td>2017-03-30 8:31:13</td>\n",
       "    </tr>\n",
       "    <tr>\n",
       "      <th>98</th>\n",
       "      <td>32</td>\n",
       "      <td>4858</td>\n",
       "      <td>993</td>\n",
       "      <td>404</td>\n",
       "      <td>4</td>\n",
       "      <td>debit</td>\n",
       "      <td>2017-03-30 9:30:28</td>\n",
       "    </tr>\n",
       "    <tr>\n",
       "      <th>99</th>\n",
       "      <td>64</td>\n",
       "      <td>4835</td>\n",
       "      <td>989</td>\n",
       "      <td>399</td>\n",
       "      <td>3</td>\n",
       "      <td>debit</td>\n",
       "      <td>2017-03-29 17:13:41</td>\n",
       "    </tr>\n",
       "  </tbody>\n",
       "</table>\n",
       "<p>100 rows × 7 columns</p>\n",
       "</div>"
      ],
      "text/plain": [
       "    shop_id  order_id  user_id  order_amount  total_items payment_method  \\\n",
       "0        42      4883      975        704000         2000          debit   \n",
       "1        78      4919      997        154350            6          debit   \n",
       "2        43      4941      995          1086            6          debit   \n",
       "3        54      4695      988          1064            8          debit   \n",
       "4        89      4878      992           980            5          debit   \n",
       "..      ...       ...      ...           ...          ...            ...   \n",
       "95       93      4977      998           456            4          debit   \n",
       "96       92      4974      987           450            5          debit   \n",
       "97      100      4987      997           444            4          debit   \n",
       "98       32      4858      993           404            4          debit   \n",
       "99       64      4835      989           399            3          debit   \n",
       "\n",
       "             created_at  \n",
       "0    2017-03-28 4:00:00  \n",
       "1   2017-03-30 12:23:43  \n",
       "2    2017-03-30 7:00:14  \n",
       "3    2017-03-30 6:20:07  \n",
       "4   2017-03-30 12:48:48  \n",
       "..                  ...  \n",
       "95  2017-03-30 20:10:27  \n",
       "96   2017-03-29 3:07:12  \n",
       "97   2017-03-30 8:31:13  \n",
       "98   2017-03-30 9:30:28  \n",
       "99  2017-03-29 17:13:41  \n",
       "\n",
       "[100 rows x 7 columns]"
      ]
     },
     "execution_count": 114,
     "metadata": {},
     "output_type": "execute_result"
    }
   ],
   "source": [
    "# Look at shop prices\n",
    "shop_prices = df_sneakers.groupby([\"shop_id\"]).max()\n",
    "shop_prices_aov = (shop_prices.sort_values(by = \"order_amount\", ascending = False)).reset_index()\n",
    "shop_prices_aov\n",
    "\n",
    "# Notice store 78 has abnormally high as for the same 6 total items, shop 43 has an order amount of 1086 whereas shop 78 has an order amount of 154350\n"
   ]
  },
  {
   "cell_type": "code",
   "execution_count": 115,
   "metadata": {},
   "outputs": [
    {
     "name": "stdout",
     "output_type": "stream",
     "text": [
      "352.0\n",
      "25725.0\n",
      "181.0\n",
      "133.0\n",
      "196.0\n",
      "193.0\n",
      "160.0\n",
      "160.0\n",
      "158.0\n",
      "187.0\n",
      "187.0\n",
      "184.0\n",
      "178.0\n",
      "177.0\n",
      "177.0\n",
      "176.0\n",
      "176.0\n",
      "173.0\n",
      "173.0\n",
      "169.0\n",
      "166.0\n",
      "136.0\n",
      "163.0\n",
      "163.0\n",
      "162.0\n",
      "161.0\n",
      "201.0\n",
      "131.0\n",
      "130.0\n",
      "156.0\n",
      "195.0\n",
      "156.0\n",
      "156.0\n",
      "129.0\n",
      "153.0\n",
      "153.0\n",
      "153.0\n",
      "153.0\n",
      "190.0\n",
      "149.0\n",
      "148.0\n",
      "147.0\n",
      "146.0\n",
      "145.0\n",
      "181.0\n",
      "178.0\n",
      "142.0\n",
      "142.0\n",
      "142.0\n",
      "142.0\n",
      "177.0\n",
      "176.0\n",
      "171.0\n",
      "168.0\n",
      "134.0\n",
      "134.0\n",
      "165.0\n",
      "132.0\n",
      "164.0\n",
      "164.0\n",
      "164.0\n",
      "131.0\n",
      "130.0\n",
      "129.0\n",
      "161.0\n",
      "160.0\n",
      "160.0\n",
      "158.0\n",
      "156.0\n",
      "155.0\n",
      "154.0\n",
      "153.0\n",
      "148.0\n",
      "118.0\n",
      "118.0\n",
      "146.0\n",
      "116.0\n",
      "145.0\n",
      "144.0\n",
      "140.0\n",
      "112.0\n",
      "112.0\n",
      "138.0\n",
      "136.0\n",
      "133.0\n",
      "130.0\n",
      "172.0\n",
      "129.0\n",
      "128.0\n",
      "128.0\n",
      "127.0\n",
      "122.0\n",
      "94.0\n",
      "117.0\n",
      "117.0\n",
      "114.0\n",
      "90.0\n",
      "111.0\n",
      "101.0\n",
      "133.0\n"
     ]
    }
   ],
   "source": [
    "for i in range(len(shop_prices_aov[\"shop_id\"])):\n",
    "    print(shop_prices_aov[\"order_amount\"][i]/shop_prices_aov[\"total_items\"][i])"
   ]
  },
  {
   "cell_type": "markdown",
   "metadata": {},
   "source": [
    "Q1b: What metric would you report for this dataset?"
   ]
  },
  {
   "cell_type": "markdown",
   "metadata": {},
   "source": [
    "A1b: The original metric seemed to be average order value, which we found to be abnormally high. As such I would suggest a metric of average item order value as the metric."
   ]
  },
  {
   "cell_type": "markdown",
   "metadata": {},
   "source": [
    "Q1c: What is its value?"
   ]
  },
  {
   "cell_type": "code",
   "execution_count": 119,
   "metadata": {},
   "outputs": [
    {
     "name": "stdout",
     "output_type": "stream",
     "text": [
      "Average Order Value with SHOP 78 is:  376.34145351197725\n",
      "Average Order Value without SHOP 78 is:  314.43996743996746\n"
     ]
    }
   ],
   "source": [
    "# A1c: \n",
    "# AOV calculation should be total revenue/num of orders\n",
    "# We can decide whether or not to keep the outlier\n",
    "aov_calc_with = shop_prices_aov[\"order_amount\"].sum()/shop_prices_aov[\"total_items\"].sum()\n",
    "print(\"Average Order Value with SHOP 78 is: \", aov_calc_with)\n",
    "\n",
    "# # Remove the outlier with z-score\n",
    "# df_sneakers_without = shop_prices_aov[(np.abs(stats.zscore(shop_prices_aov[\"order_amount\"])) < 3)]\n",
    "# aov_calc_without = shop_prices_aov[\"order_amount\"].sum()/shop_prices_aov[\"total_items\"].sum()\n",
    "# print(\"Average Order Value without Outlier is: \", aov_calc_without)\n",
    "\n",
    "# Remove Outliers\n",
    "shop_prices_aov_without = shop_prices_aov[shop_prices_aov.shop_id != 78]\n",
    "aov_calc_without = shop_prices_aov_without[\"order_amount\"].sum()/shop_prices_aov_without[\"total_items\"].sum()\n",
    "print(\"Average Order Value without SHOP 78 is: \", aov_calc_without)"
   ]
  },
  {
   "cell_type": "markdown",
   "metadata": {},
   "source": [
    "For this question you’ll need to use SQL. Follow this link to access the data set required for the challenge. Please use queries to answer the following questions. Paste your queries along with your final numerical answers below."
   ]
  },
  {
   "cell_type": "markdown",
   "metadata": {},
   "source": [
    "Q2a: How many orders were shipped by Speedy Express in total?"
   ]
  },
  {
   "cell_type": "markdown",
   "metadata": {},
   "source": [
    "QUERY: \n",
    "\n",
    "SELECT COUNT(OrderID) FROM Orders o \n",
    "LEFT JOIN Shippers s ON o.ShipperID = s.ShipperID \n",
    "WHERE s.ShipperName = 'Speedy Express';"
   ]
  },
  {
   "cell_type": "markdown",
   "metadata": {},
   "source": [
    "A2a RESULT:\n",
    "\n",
    "Speedy Express\t54\n"
   ]
  },
  {
   "cell_type": "markdown",
   "metadata": {},
   "source": [
    "Q2b: What is the last name of the employee with the most orders?"
   ]
  },
  {
   "cell_type": "markdown",
   "metadata": {},
   "source": [
    "QUERY: \n",
    "\n",
    "SELECT e.LastName, Count() AS number_orders FROM Orders o \n",
    "JOIN Employees e ON e.EmployeeID=o.EmployeeID\n",
    "GROUP BY e.EmployeeID\n",
    "ORDER BY number_orders DESC"
   ]
  },
  {
   "cell_type": "markdown",
   "metadata": {},
   "source": [
    "A2b RESULT:\n",
    "\n",
    "Peacock 40"
   ]
  },
  {
   "cell_type": "markdown",
   "metadata": {},
   "source": [
    "Q2c: What product was ordered the most by customers in Germany?"
   ]
  },
  {
   "cell_type": "markdown",
   "metadata": {},
   "source": [
    "QUERY: \n",
    "\n",
    "SELECT ProductName, SUM(od.Quantity) AS aggregate_quantity FROM OrderDetails od\n",
    "JOIN Products p ON p.ProductID=od.ProductID\n",
    "JOIN Orders o ON o.OrderID=od.OrderID\n",
    "JOIN (SELECT CustomerID FROM Customers WHERE Country=\"Germany\") c ON c.CustomerID=o.CustomerID\n",
    "GROUP BY od.ProductID\n",
    "ORDER BY aggregate_quantity DESC\n",
    "LIMIT 1;"
   ]
  },
  {
   "cell_type": "markdown",
   "metadata": {},
   "source": [
    "A2c RESULT:\n",
    "Boston Crab Meat 160"
   ]
  },
  {
   "cell_type": "markdown",
   "metadata": {},
   "source": []
  }
 ],
 "metadata": {
  "interpreter": {
   "hash": "66ac14fd11a7fb3e3fd890ee6d50e6525369f2bb55b16a6a7e2dffc8fde3bf58"
  },
  "kernelspec": {
   "display_name": "Python 3.9.12 64-bit (windows store)",
   "language": "python",
   "name": "python3"
  },
  "language_info": {
   "codemirror_mode": {
    "name": "ipython",
    "version": 3
   },
   "file_extension": ".py",
   "mimetype": "text/x-python",
   "name": "python",
   "nbconvert_exporter": "python",
   "pygments_lexer": "ipython3",
   "version": "3.9.12"
  },
  "orig_nbformat": 4
 },
 "nbformat": 4,
 "nbformat_minor": 2
}
